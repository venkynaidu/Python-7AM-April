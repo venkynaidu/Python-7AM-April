{
 "cells": [
  {
   "cell_type": "markdown",
   "metadata": {},
   "source": [
    "1. Conditional:\n",
    "    a. if\n",
    "    b. if elif\n",
    "    c. if elif else"
   ]
  },
  {
   "cell_type": "markdown",
   "metadata": {},
   "source": [
    "# 1. if: "
   ]
  },
  {
   "cell_type": "code",
   "execution_count": null,
   "metadata": {},
   "outputs": [],
   "source": [
    "syntax: \n",
    "    if condition:\n",
    "        ----------\n",
    "        ----------\n",
    "        ----------"
   ]
  },
  {
   "cell_type": "code",
   "execution_count": 1,
   "metadata": {},
   "outputs": [
    {
     "name": "stdout",
     "output_type": "stream",
     "text": [
      "+ve number\n"
     ]
    }
   ],
   "source": [
    "#program to check the given number is +ve or not\n",
    "a=10\n",
    "if a>0:\n",
    "    print(\"+ve number\")\n",
    "    "
   ]
  },
  {
   "cell_type": "code",
   "execution_count": 2,
   "metadata": {},
   "outputs": [],
   "source": [
    "#program to check the given number is +ve or not\n",
    "a=-10\n",
    "if a>0:\n",
    "    print(\"+ve number\")"
   ]
  },
  {
   "cell_type": "markdown",
   "metadata": {},
   "source": [
    "### b. if else:"
   ]
  },
  {
   "cell_type": "code",
   "execution_count": null,
   "metadata": {},
   "outputs": [],
   "source": [
    "syntax:\n",
    "    if condition:\n",
    "        --------\n",
    "        --------\n",
    "        --------\n",
    "    else:\n",
    "        ---------\n",
    "        ---------\n",
    "        ---------"
   ]
  },
  {
   "cell_type": "code",
   "execution_count": 3,
   "metadata": {},
   "outputs": [
    {
     "name": "stdout",
     "output_type": "stream",
     "text": [
      "+ve number\n"
     ]
    }
   ],
   "source": [
    "#example program to check the given number is +ve or -ve\n",
    "a=10\n",
    "if a>0:\n",
    "    print(\"+ve number\")\n",
    "else:\n",
    "    print(\"-ve number\")"
   ]
  },
  {
   "cell_type": "code",
   "execution_count": 4,
   "metadata": {},
   "outputs": [
    {
     "name": "stdout",
     "output_type": "stream",
     "text": [
      "-ve number\n"
     ]
    }
   ],
   "source": [
    "#example program to check the given number is +ve or -ve\n",
    "a=-10\n",
    "if a>0:\n",
    "    print(\"+ve number\")\n",
    "else:\n",
    "    print(\"-ve number\")"
   ]
  },
  {
   "cell_type": "code",
   "execution_count": 6,
   "metadata": {},
   "outputs": [
    {
     "name": "stdout",
     "output_type": "stream",
     "text": [
      "Enter a number to check:-9\n",
      "-ve number\n"
     ]
    }
   ],
   "source": [
    "#example program to check the given number is +ve or -ve\n",
    "a=int(input(\"Enter a number to check:\"))\n",
    "if a>0:\n",
    "    print(\"+ve number\")\n",
    "else:\n",
    "    print(\"-ve number\")"
   ]
  },
  {
   "cell_type": "code",
   "execution_count": 7,
   "metadata": {},
   "outputs": [
    {
     "name": "stdout",
     "output_type": "stream",
     "text": [
      "Enter your PIN:1234\n",
      "Wrong PIN please try again....\n"
     ]
    }
   ],
   "source": [
    "#example program to check PIN \n",
    "PIN=8866\n",
    "UPIN=int(input(\"Enter your PIN:\"))\n",
    "if PIN==UPIN:\n",
    "    print(\"ENtered PIN is Correct\")\n",
    "else:\n",
    "    print(\"Wrong PIN please try again....\")"
   ]
  },
  {
   "cell_type": "code",
   "execution_count": 8,
   "metadata": {},
   "outputs": [
    {
     "name": "stdout",
     "output_type": "stream",
     "text": [
      "Enter your PIN:8866\n",
      "ENtered PIN is Correct\n"
     ]
    }
   ],
   "source": [
    "#example program to check PIN \n",
    "PIN=8866\n",
    "UPIN=int(input(\"Enter your PIN:\"))\n",
    "if PIN==UPIN:\n",
    "    print(\"ENtered PIN is Correct\")\n",
    "else:\n",
    "    print(\"Wrong PIN please try again....\")"
   ]
  },
  {
   "cell_type": "code",
   "execution_count": 10,
   "metadata": {},
   "outputs": [
    {
     "name": "stdout",
     "output_type": "stream",
     "text": [
      "Enter a value:20\n",
      "Enter b Value:30\n",
      "b is big\n"
     ]
    }
   ],
   "source": [
    "#program to check the biggest num of given two numbers\n",
    "a=int(input(\"Enter a value:\"))\n",
    "b=int(input(\"Enter b Value:\"))\n",
    "if a>b:\n",
    "    print(\"a value is big\")\n",
    "else:\n",
    "    print(\"b is big\")"
   ]
  },
  {
   "cell_type": "code",
   "execution_count": 12,
   "metadata": {},
   "outputs": [
    {
     "name": "stdout",
     "output_type": "stream",
     "text": [
      "Enter name to wish:Suresh\n",
      " Hello How are you?\n"
     ]
    }
   ],
   "source": [
    "#example program with strings\n",
    "name=input(\"Enter name to wish:\")\n",
    "if name==\"Venky\":\n",
    "    print(\"Good Morning Venky\")\n",
    "else:\n",
    "    print(\" Hello How are you?\")"
   ]
  },
  {
   "cell_type": "code",
   "execution_count": 14,
   "metadata": {},
   "outputs": [
    {
     "name": "stdout",
     "output_type": "stream",
     "text": [
      "Enter mail ID:venky123@gmail.com\n",
      "Entered mail is correct\n"
     ]
    }
   ],
   "source": [
    "#example program to check gmail \n",
    "mymail=\"venky123@gmail.com\"\n",
    "gm=input(\"Enter mail ID:\")\n",
    "if gm==mymail:\n",
    "    print(\"Entered mail is correct\")\n",
    "else:\n",
    "    print(\"Wrong mail id .....\")"
   ]
  },
  {
   "cell_type": "code",
   "execution_count": 15,
   "metadata": {},
   "outputs": [
    {
     "name": "stdout",
     "output_type": "stream",
     "text": [
      "Enter mail ID:venky123@gmail.com\n",
      "Entered mail is correct\n",
      "Enter pswrd:1234\n",
      "Succesfully logged in...\n"
     ]
    }
   ],
   "source": [
    "#example program to check gmail \n",
    "mymail=\"venky123@gmail.com\"\n",
    "pswrd=\"1234\"\n",
    "gm=input(\"Enter mail ID:\")\n",
    "if gm==mymail:\n",
    "    print(\"Entered mail is correct\")\n",
    "    mypswrd=input(\"Enter pswrd:\")\n",
    "    if pswrd==mypswrd:\n",
    "        print(\"Succesfully logged in...\")\n",
    "    else:\n",
    "        print(\"Wrong pswrd....please try again..\")\n",
    "else:\n",
    "    print(\"Wrong mail id .....\")"
   ]
  },
  {
   "cell_type": "code",
   "execution_count": 16,
   "metadata": {},
   "outputs": [
    {
     "name": "stdout",
     "output_type": "stream",
     "text": [
      "Enter mail ID:Venky@gmail.com\n",
      "Wrong mail id .....\n"
     ]
    }
   ],
   "source": [
    "#example program to check gmail \n",
    "mymail=\"venky123@gmail.com\"\n",
    "pswrd=\"1234\"\n",
    "gm=input(\"Enter mail ID:\")\n",
    "if gm==mymail:\n",
    "    print(\"Entered mail is correct\")\n",
    "    mypswrd=input(\"Enter pswrd:\")\n",
    "    if pswrd==mypswrd:\n",
    "        print(\"Succesfully logged in...\")\n",
    "    else:\n",
    "        print(\"Wrong pswrd....please try again..\")\n",
    "else:\n",
    "    print(\"Wrong mail id .....\")"
   ]
  },
  {
   "cell_type": "code",
   "execution_count": 17,
   "metadata": {},
   "outputs": [
    {
     "name": "stdout",
     "output_type": "stream",
     "text": [
      "Enter mail ID:venky123@gmail.com\n",
      "Entered mail is correct\n",
      "Enter pswrd:8866\n",
      "Wrong pswrd....please try again..\n"
     ]
    }
   ],
   "source": [
    "#example program to check gmail \n",
    "mymail=\"venky123@gmail.com\"\n",
    "pswrd=\"1234\"\n",
    "gm=input(\"Enter mail ID:\")\n",
    "if gm==mymail:\n",
    "    print(\"Entered mail is correct\")\n",
    "    mypswrd=input(\"Enter pswrd:\")\n",
    "    if pswrd==mypswrd:\n",
    "        print(\"Succesfully logged in...\")\n",
    "    else:\n",
    "        print(\"Wrong pswrd....please try again..\")\n",
    "else:\n",
    "    print(\"Wrong mail id .....\")"
   ]
  },
  {
   "cell_type": "code",
   "execution_count": null,
   "metadata": {},
   "outputs": [],
   "source": []
  }
 ],
 "metadata": {
  "kernelspec": {
   "display_name": "Python 3",
   "language": "python",
   "name": "python3"
  },
  "language_info": {
   "codemirror_mode": {
    "name": "ipython",
    "version": 3
   },
   "file_extension": ".py",
   "mimetype": "text/x-python",
   "name": "python",
   "nbconvert_exporter": "python",
   "pygments_lexer": "ipython3",
   "version": "3.7.4"
  }
 },
 "nbformat": 4,
 "nbformat_minor": 4
}
